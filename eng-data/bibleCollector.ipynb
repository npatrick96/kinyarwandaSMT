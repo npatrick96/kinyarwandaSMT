{
 "cells": [
  {
   "cell_type": "code",
   "execution_count": 2,
   "metadata": {
    "collapsed": false
   },
   "outputs": [],
   "source": [
    "import re\n",
    "import requests"
   ]
  },
  {
   "cell_type": "code",
   "execution_count": 14,
   "metadata": {
    "collapsed": false
   },
   "outputs": [],
   "source": [
    "def ok(s):\n",
    "    return \"\"\n",
    "\n",
    "f = open(\"king.txt\")\n",
    "st = \"\"\n",
    "for i in f.readlines():\n",
    "    kk = str(re.sub('[a-zA-Z]', ok, i)).replace(\",\", \"\").replace(\".\", \"\")\n",
    "    st = st + kk\n",
    "f.close()\n",
    "f = open(\"tempp.txt\", 'w')\n",
    "f.write(st)\n",
    "f.close()"
   ]
  },
  {
   "cell_type": "code",
   "execution_count": 3,
   "metadata": {
    "collapsed": false
   },
   "outputs": [],
   "source": [
    "\n",
    "# #url = \"https://www.bible.com/en-GB/bible/351/\" + abbreviations[key] + \".\" + ch + \".\" + ve + \".bysb\"\n",
    "# url = \"https://www.bible.com/bible/351/jhn.1.kjv.json\"\n",
    "# r = requests.get(url, auth=('user', 'pass'))\n",
    "# #print(r.json()[\"reader_html\"])\n",
    "\n",
    "# towrite = \"\"\n",
    "# if 'class=\"content\">' in r.text:\n",
    "#     towrite += r.text.rsplit('class=\"content\">', 1)[1].split('</span></span>')[0]\n",
    "#     filename = book + \" \" + ch + ve + \".txt\"\n",
    "# f = open(filename, 'w')\n",
    "# f.write(towrite)\n",
    "# f.close()            "
   ]
  },
  {
   "cell_type": "code",
   "execution_count": null,
   "metadata": {
    "collapsed": true
   },
   "outputs": [],
   "source": []
  }
 ],
 "metadata": {
  "kernelspec": {
   "display_name": "Python 3",
   "language": "python",
   "name": "python3"
  },
  "language_info": {
   "codemirror_mode": {
    "name": "ipython",
    "version": 3
   },
   "file_extension": ".py",
   "mimetype": "text/x-python",
   "name": "python",
   "nbconvert_exporter": "python",
   "pygments_lexer": "ipython3",
   "version": "3.5.2"
  }
 },
 "nbformat": 4,
 "nbformat_minor": 1
}
