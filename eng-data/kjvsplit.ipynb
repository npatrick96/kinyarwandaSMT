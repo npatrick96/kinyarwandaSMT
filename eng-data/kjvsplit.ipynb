{
 "cells": [
  {
   "cell_type": "code",
   "execution_count": 22,
   "metadata": {
    "collapsed": false
   },
   "outputs": [],
   "source": [
    "# import re\n",
    "# k = open(\"Titus.txt\")\n",
    "# s = k.read()\n",
    "# print(len(s))\n",
    "# k.close()\n",
    "# s  = re.sub(r'\\s+(?=\\d)', '\\n', s)\n",
    "# print(len(s))\n",
    "# k = open(\"Titus.txt\", \"w\")\n",
    "# k.write(s)\n",
    "# k.close()"
   ]
  },
  {
   "cell_type": "code",
   "execution_count": 23,
   "metadata": {
    "collapsed": false
   },
   "outputs": [],
   "source": [
    "# import re\n",
    "# k = open(\"Titus.txt\")\n",
    "# s = k.read()\n",
    "# print(len(s))\n",
    "# k.close()\n",
    "# ss  = re.sub(r'\\n(?=\\d)', '#####', s)\n",
    "# print(len(ss))\n",
    "# k = open(\"Titus.txt\", \"w\")\n",
    "# k.write(ss)\n",
    "# k.close()"
   ]
  },
  {
   "cell_type": "code",
   "execution_count": 24,
   "metadata": {
    "collapsed": false
   },
   "outputs": [],
   "source": [
    "# import re\n",
    "# k = open(\"11.txt\")\n",
    "# ss = k.read()\n",
    "# s = ss.split(\"The New Testament of the King James Bible\")\n",
    "# print(len(s))\n",
    "# k.close()\n",
    "# k1 = open(\"old.txt\", \"w\")\n",
    "# k1.write(s[0])\n",
    "# k1.close()\n",
    "# k2 = open(\"new.txt\", \"w\")\n",
    "# k2.write(s[1])\n",
    "# k2.close()"
   ]
  },
  {
   "cell_type": "code",
   "execution_count": 25,
   "metadata": {
    "collapsed": false
   },
   "outputs": [],
   "source": [
    "# import re\n",
    "# k = open(\"11.txt\")\n",
    "# s = k.read()\n",
    "# k.close()\n",
    "# s  = re.sub(r'\\s+(?=\\d)', '###', s)\n",
    "# s  = re.sub(r'\\n', ' ', s)\n",
    "# s  = re.sub(r'###', '\\n', s)\n",
    "# print(len(s))\n",
    "# k = open(\"10.txt\", \"w\")\n",
    "# k.write(s)\n",
    "# k.close()"
   ]
  },
  {
   "cell_type": "code",
   "execution_count": null,
   "metadata": {
    "collapsed": true
   },
   "outputs": [],
   "source": []
  }
 ],
 "metadata": {
  "kernelspec": {
   "display_name": "Python 3",
   "language": "python",
   "name": "python3"
  },
  "language_info": {
   "codemirror_mode": {
    "name": "ipython",
    "version": 3
   },
   "file_extension": ".py",
   "mimetype": "text/x-python",
   "name": "python",
   "nbconvert_exporter": "python",
   "pygments_lexer": "ipython3",
   "version": "3.5.2"
  }
 },
 "nbformat": 4,
 "nbformat_minor": 1
}
