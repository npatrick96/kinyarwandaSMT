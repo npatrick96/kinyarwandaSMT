{
 "cells": [
  {
   "cell_type": "code",
   "execution_count": 1,
   "metadata": {
    "collapsed": true
   },
   "outputs": [],
   "source": [
    "import requests"
   ]
  },
  {
   "cell_type": "code",
   "execution_count": 2,
   "metadata": {
    "collapsed": true
   },
   "outputs": [],
   "source": [
    "booksNames = [\"Genesis\",\"Exodus\",\"Leviticus\",\"Numbers\",\"Deuteronomy\",\"Joshua\",\"Judges\",\"Ruth\",\"1 Samuel\",\"2 Samuel\",\n",
    "           \"1 Kings\",\"2 Kings\",\"1 Chronicles\",\"2 Chronicles\",\"Ezra\",\"Nehemiah\",\"Esther\",\"Job\",\"Psalms\",\"Proverbs\",\n",
    "           \"Ecclesiastes\",\"Song of Solomon\",\"Isaiah\",\"Jeremiah\",\"Lamentations\",\"Ezekiel\",\"Daniel\",\"Hosea\",\n",
    "           \"Joel\",\"Amos\",\"Obadiah\",\"Jonah\",\"Micah\",\"Nahum\",\"Habakkuk\",\"Zephaniah\",\"Haggai\",\"Zechariah\",\"Malachi\", \n",
    "            \"Matthew\",\"Mark\",\"Luke\",\"John\",\"Acts\",\"Romans\",\"1 Corinthians\",\"2 Corinthians\",\"Galatians\",\"Ephesians\",\n",
    "             \"Philippians\",\"Colossians\",\"1 Thessalonians\",\"2 Thessalonians\",\"1 Timothy\",\"2 Timothy\",\"Titus\",\n",
    "            \"Philemon\",\"Hebrews\",\"James\",\"1 Peter\",\"2 Peter\",\"1 John\",\"2 John\",\"3 John\",\"Jude\",\"Revelation\"]"
   ]
  },
  {
   "cell_type": "code",
   "execution_count": 3,
   "metadata": {
    "collapsed": true
   },
   "outputs": [],
   "source": [
    "booksAbbr = [\"gen\", \"exo\", \"lev\", \"num\", \"deu\", \"jos\", \"jdg\", \"rut\", \"1sa\", \"2sa\", \"1ki\", \"2ki\", \"1ch\", \"2ch\", \"ezr\", \n",
    "             \"neh\", \"est\", \"job\", \"psa\", \"pro\", \"ecc\", \"sng\", \"isa\", \"jer\", \"lam\", \"ezk\", \"dan\", \"hos\", \"jol\", \"amo\", \n",
    "             \"oba\", \"jon\", \"mic\", \"nam\", \"hab\", \"zep\", \"hag\", \"zec\", \"mal\", \"mat\", \"mrk\", \"luk\", \"jhn\", \"act\", \"rom\",\n",
    "             \"1co\", \"2co\", \"gal\", \"eph\", \"php\", \"col\", \"1th\", \"2th\", \"1ti\", \"2ti\", \"tit\", \"phm\", \"heb\", \"jas\", \"1pe\",\n",
    "             \"2pe\", \"1jn\", \"2jn\", \"3jn\", \"jud\", \"rev\"]"
   ]
  },
  {
   "cell_type": "code",
   "execution_count": 4,
   "metadata": {
    "collapsed": false
   },
   "outputs": [],
   "source": [
    "books ={}\n",
    "for i in range(len(booksAbbr)):\n",
    "    abbr = booksAbbr[i]\n",
    "    name = booksNames[i]\n",
    "    books[abbr] = name"
   ]
  },
  {
   "cell_type": "code",
   "execution_count": 5,
   "metadata": {
    "collapsed": false
   },
   "outputs": [],
   "source": [
    "booksAbbr = [ \"psa\"]"
   ]
  },
  {
   "cell_type": "code",
   "execution_count": 6,
   "metadata": {
    "collapsed": false
   },
   "outputs": [],
   "source": [
    "for i in range(len(booksAbbr)):\n",
    "    abbr = booksAbbr[i]\n",
    "    name = books[abbr]\n",
    "    f = open(abbr+\".txt\")\n",
    "    bookcontent = \"\"\n",
    "    for k in f.readlines():\n",
    "        chve = k.strip().split(\":\")\n",
    "        ch, ve = chve[0], chve[1]\n",
    "        verse = \"\"\n",
    "        url = \"https://www.bible.com/bible/351/\" + abbr + \".\" + ch + \".\" + ve + \".bysb\"\n",
    "        r = requests.get(url, auth=('user', 'pass'))\n",
    "        if 'class=\"content\">' in r.text:\n",
    "            verse = k.strip() + \" \" + r.text.rsplit('class=\"content\">', 1)[1].split('</span></span>')[0] + \"\\n\"\n",
    "        else: #let's try again one more time\n",
    "            rr = requests.get(url, auth=('user', 'pass'))\n",
    "            if 'class=\"content\">' in rr.text:\n",
    "                verse = k.strip() + \" \" + rr.text.rsplit('class=\"content\">', 1)[1].split('</span></span>')[0] + \"\\n\"\n",
    "        bookcontent += verse\n",
    "    f.close()\n",
    "    ff = open(name+\".kn\", \"w\")\n",
    "    ff.write(bookcontent)\n",
    "    ff.close()\n",
    "        "
   ]
  },
  {
   "cell_type": "code",
   "execution_count": 7,
   "metadata": {
    "collapsed": false
   },
   "outputs": [],
   "source": [
    "# import time\n",
    "# for i in range(len(booksAbbr)):\n",
    "#     abbr = booksAbbr[i]\n",
    "#     name = books[abbr]\n",
    "#     f = open(abbr+\".txt\")\n",
    "#     bookcontent = \"\"\n",
    "#     for k in f.readlines():\n",
    "#         chve = k.strip().split(\":\")\n",
    "#         ch, ve = chve[0], chve[1]\n",
    "#         verse = \"\"\n",
    "#         url = \"https://www.bible.com/bible/1/\" + abbr + \".\" + ch + \".\" + ve + \".kjv\"\n",
    "#         r = requests.get(url, auth=('user', 'pass'))\n",
    "#         time.sleep(3)\n",
    "#         if 'class=\"content\">' in r.text:\n",
    "#             verse = k.strip() + \" \" + r.text.rsplit('class=\"content\">', 1)[1].split('</span></span>')[0] + \"\\n\"\n",
    "#         else: #let's try again one more time\n",
    "#             rr = requests.get(url, auth=('user', 'pass'))\n",
    "#             if 'class=\"content\">' in rr.text:\n",
    "#                 verse = k.strip() + \" \" + rr.text.rsplit('class=\"content\">', 1)[1].split('</span></span>')[0] + \"\\n\"\n",
    "#         bookcontent += verse\n",
    "#     f.close()\n",
    "#     ff = open(name+\".en\", \"w\")\n",
    "#     ff.write(bookcontent)\n",
    "#     ff.close()\n"
   ]
  },
  {
   "cell_type": "code",
   "execution_count": 8,
   "metadata": {
    "collapsed": false
   },
   "outputs": [
    {
     "name": "stdout",
     "output_type": "stream",
     "text": [
      "WE ARE DONE HERE!\n"
     ]
    }
   ],
   "source": [
    "# url =\"https://www.bible.com/bible/351/jhn.2.1.kjv\"\n",
    "# r = requests.get(url, auth=('user', 'pass'))\n",
    "# verse =  r.text.rsplit('class=\"content\">', 1)[1].split('</span></span>')[0] \n",
    "# print(verse)\n",
    "print(\"WE ARE DONE HERE!\")"
   ]
  }
 ],
 "metadata": {
  "kernelspec": {
   "display_name": "Python 3",
   "language": "python",
   "name": "python3"
  },
  "language_info": {
   "codemirror_mode": {
    "name": "ipython",
    "version": 3
   },
   "file_extension": ".py",
   "mimetype": "text/x-python",
   "name": "python",
   "nbconvert_exporter": "python",
   "pygments_lexer": "ipython3",
   "version": "3.5.2"
  }
 },
 "nbformat": 4,
 "nbformat_minor": 1
}
