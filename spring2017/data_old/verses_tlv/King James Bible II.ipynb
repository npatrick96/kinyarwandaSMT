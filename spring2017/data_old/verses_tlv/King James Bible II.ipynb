{
 "cells": [
  {
   "cell_type": "code",
   "execution_count": 12,
   "metadata": {
    "collapsed": true
   },
   "outputs": [],
   "source": [
    "import re\n",
    "import requests"
   ]
  },
  {
   "cell_type": "code",
   "execution_count": 13,
   "metadata": {
    "collapsed": false
   },
   "outputs": [
    {
     "name": "stdout",
     "output_type": "stream",
     "text": [
      "4351846\n",
      "<class 'str'>\n"
     ]
    }
   ],
   "source": [
    "current = \"\"\n",
    "fin = open(\"kingjames.txt\") # file downloaded from http://www.gutenberg.org/1/10/\n",
    "for line in fin.readlines():\n",
    "        current += line\n",
    "print (len(current))\n",
    "fin.close()\n",
    "print (type(current))\n"
   ]
  },
  {
   "cell_type": "code",
   "execution_count": 14,
   "metadata": {
    "collapsed": true
   },
   "outputs": [],
   "source": [
    "#start here\n",
    "#\"*** START OF THIS PROJECT GUTENBERG EBOOK THE KING JAMES BIBLE ***\"\n",
    "\n",
    "#end here\n",
    "#\"End of the Project Gutenberg EBook of The King James Bible\""
   ]
  },
  {
   "cell_type": "code",
   "execution_count": 15,
   "metadata": {
    "collapsed": false
   },
   "outputs": [
    {
     "name": "stdout",
     "output_type": "stream",
     "text": [
      "4351306\n"
     ]
    }
   ],
   "source": [
    "#remove the informational text at the beginning \n",
    "currentB = current.split(\"*** START OF THIS PROJECT GUTENBERG EBOOK THE KING JAMES BIBLE ***\", 1)[1]\n",
    "print (len(currentB))"
   ]
  },
  {
   "cell_type": "code",
   "execution_count": 16,
   "metadata": {
    "collapsed": false
   },
   "outputs": [
    {
     "name": "stdout",
     "output_type": "stream",
     "text": [
      "4332586\n"
     ]
    }
   ],
   "source": [
    "#remove the copyright and disclaimers text at the end\n",
    "currentE = currentB.rsplit(\"End of the Project Gutenberg EBook of The King James Bible\", 1)[0]\n",
    "print (len(currentE))"
   ]
  },
  {
   "cell_type": "code",
   "execution_count": 17,
   "metadata": {
    "collapsed": false
   },
   "outputs": [
    {
     "name": "stdout",
     "output_type": "stream",
     "text": [
      "2\n"
     ]
    }
   ],
   "source": [
    "currentT = currentE.split(\"***\")\n",
    "print (len(currentT)) #this is correct, as we have two testaments in the text file divided by the *** characters."
   ]
  },
  {
   "cell_type": "code",
   "execution_count": 18,
   "metadata": {
    "collapsed": false
   },
   "outputs": [
    {
     "name": "stdout",
     "output_type": "stream",
     "text": [
      "1\n",
      "1\n"
     ]
    }
   ],
   "source": [
    "newTest = currentT[1]\n",
    "oldTest = currentT[0]\n",
    "oldT = oldTest.split(\"\\nANOTHER BOOK STARTS HERE\")\n",
    "newT = newTest.split(\"\\nANOTHER BOOK STARTS HERE\")\n",
    "print (len(oldT))\n",
    "print (len(newT))"
   ]
  },
  {
   "cell_type": "code",
   "execution_count": 19,
   "metadata": {
    "collapsed": true
   },
   "outputs": [],
   "source": [
    "booksNames = [\"Genesis\",\"Exodus\",\"Leviticus\",\"Numbers\",\"Deuteronomy\",\"Joshua\",\"Judges\",\"Ruth\",\"1 Samuel\",\"2 Samuel\",\n",
    "           \"1 Kings\",\"2 Kings\",\"1 Chronicles\",\"2 Chronicles\",\"Ezra\",\"Nehemiah\",\"Esther\",\"Job\",\"Psalms\",\"Proverbs\",\n",
    "           \"Ecclesiastes\",\"Song of Solomon\",\"Isaiah\",\"Jeremiah\",\"Lamentations\",\"Ezekiel\",\"Daniel\",\"Hosea\",\n",
    "           \"Joel\",\"Amos\",\"Obadiah\",\"Jonah\",\"Micah\",\"Nahum\",\"Habakkuk\",\"Zephaniah\",\"Haggai\",\"Zechariah\",\"Malachi\", \n",
    "            \"Matthew\",\"Mark\",\"Luke\",\"John\",\"Acts\",\"Romans\",\"1 Corinthians\",\"2 Corinthians\",\"Galatians\",\"Ephesians\",\n",
    "             \"Philippians\",\"Colossians\",\"1 Thessalonians\",\"2 Thessalonians\",\"1 Timothy\",\"2 Timothy\",\"Titus\",\n",
    "            \"Philemon\",\"Hebrews\",\"James\",\"1 Peter\",\"2 Peter\",\"1 John\",\"2 John\",\"3 John\",\"Jude\",\"Revelation\"]\n",
    "\n",
    "booksAbbr = [\"gen\", \"exo\", \"lev\", \"num\", \"deu\", \"jos\", \"jdg\", \"rut\", \"1sa\", \"2sa\", \"1ki\", \"2ki\", \"1ch\", \"2ch\", \"ezr\", \n",
    "             \"neh\", \"est\", \"job\", \"psa\", \"pro\", \"ecc\", \"sng\", \"isa\", \"jer\", \"lam\", \"ezk\", \"dan\", \"hos\", \"jol\", \"amo\", \n",
    "             \"oba\", \"jon\", \"mic\", \"nam\", \"hab\", \"zep\", \"hag\", \"zec\", \"mal\", \"mat\", \"mrk\", \"luk\", \"jhn\", \"act\", \"rom\",\n",
    "             \"1co\", \"2co\", \"gal\", \"eph\", \"php\", \"col\", \"1th\", \"2th\", \"1ti\", \"2ti\", \"tit\", \"phm\", \"heb\", \"jas\", \"1pe\",\n",
    "             \"2pe\", \"1jn\", \"2jn\", \"3jn\", \"jud\", \"rev\"]\n",
    "\n",
    "oldTBooks, newTBooks = booksNames[:39], booksNames[39:]"
   ]
  },
  {
   "cell_type": "code",
   "execution_count": 20,
   "metadata": {
    "collapsed": true
   },
   "outputs": [],
   "source": [
    "abbreviations = {}\n",
    "for idx in range(len(booksNames)):\n",
    "    abbreviations[booksNames[idx]] = booksAbbr[idx]"
   ]
  },
  {
   "cell_type": "code",
   "execution_count": 21,
   "metadata": {
    "collapsed": false
   },
   "outputs": [
    {
     "ename": "IndexError",
     "evalue": "list index out of range",
     "output_type": "error",
     "traceback": [
      "\u001b[0;31m---------------------------------------------------------------------------\u001b[0m",
      "\u001b[0;31mIndexError\u001b[0m                                Traceback (most recent call last)",
      "\u001b[0;32m<ipython-input-21-31dd58c87524>\u001b[0m in \u001b[0;36m<module>\u001b[0;34m()\u001b[0m\n\u001b[1;32m      1\u001b[0m \u001b[0mfullDict\u001b[0m \u001b[0;34m=\u001b[0m \u001b[0;34m{\u001b[0m\u001b[0;34m}\u001b[0m\u001b[0;34m\u001b[0m\u001b[0m\n\u001b[1;32m      2\u001b[0m \u001b[0;32mfor\u001b[0m \u001b[0mi\u001b[0m \u001b[0;32min\u001b[0m \u001b[0mrange\u001b[0m\u001b[0;34m(\u001b[0m\u001b[0mlen\u001b[0m\u001b[0;34m(\u001b[0m\u001b[0moldTBooks\u001b[0m\u001b[0;34m)\u001b[0m\u001b[0;34m)\u001b[0m\u001b[0;34m:\u001b[0m\u001b[0;34m\u001b[0m\u001b[0m\n\u001b[0;32m----> 3\u001b[0;31m     \u001b[0mfullDict\u001b[0m\u001b[0;34m[\u001b[0m\u001b[0moldTBooks\u001b[0m\u001b[0;34m[\u001b[0m\u001b[0mi\u001b[0m\u001b[0;34m]\u001b[0m\u001b[0;34m]\u001b[0m \u001b[0;34m=\u001b[0m \u001b[0moldT\u001b[0m\u001b[0;34m[\u001b[0m\u001b[0mi\u001b[0m\u001b[0;34m]\u001b[0m\u001b[0;34m\u001b[0m\u001b[0m\n\u001b[0m\u001b[1;32m      4\u001b[0m \u001b[0;32mfor\u001b[0m \u001b[0mi\u001b[0m \u001b[0;32min\u001b[0m \u001b[0mrange\u001b[0m\u001b[0;34m(\u001b[0m\u001b[0mlen\u001b[0m\u001b[0;34m(\u001b[0m\u001b[0mnewTBooks\u001b[0m\u001b[0;34m)\u001b[0m\u001b[0;34m)\u001b[0m\u001b[0;34m:\u001b[0m\u001b[0;34m\u001b[0m\u001b[0m\n\u001b[1;32m      5\u001b[0m     \u001b[0mfullDict\u001b[0m\u001b[0;34m[\u001b[0m\u001b[0mnewTBooks\u001b[0m\u001b[0;34m[\u001b[0m\u001b[0mi\u001b[0m\u001b[0;34m]\u001b[0m\u001b[0;34m]\u001b[0m \u001b[0;34m=\u001b[0m \u001b[0mnewT\u001b[0m\u001b[0;34m[\u001b[0m\u001b[0mi\u001b[0m\u001b[0;34m]\u001b[0m\u001b[0;34m\u001b[0m\u001b[0m\n",
      "\u001b[0;31mIndexError\u001b[0m: list index out of range"
     ]
    }
   ],
   "source": [
    "fullDict = {}\n",
    "for i in range(len(oldTBooks)):\n",
    "    fullDict[oldTBooks[i]] = oldT[i]\n",
    "for i in range(len(newTBooks)):\n",
    "    fullDict[newTBooks[i]] = newT[i]"
   ]
  },
  {
   "cell_type": "code",
   "execution_count": 67,
   "metadata": {
    "collapsed": false
   },
   "outputs": [
    {
     "name": "stdout",
     "output_type": "stream",
     "text": [
      "2595 31102\n"
     ]
    }
   ],
   "source": [
    "count, ct = 0, 0\n",
    "versesDict = {}\n",
    "for key, value in fullDict.items():\n",
    "    verses = re.split(r'(\\d+:\\d+)', value)\n",
    "    lst = []\n",
    "    for k in range(1, len(verses), 2):\n",
    "        ct += 1\n",
    "        newDict = {}\n",
    "        newLst = []\n",
    "        chapterVerseLst = verses[k].split(\":\")\n",
    "        ch, ve = chapterVerseLst[0], chapterVerseLst[1]\n",
    "        \n",
    "        url = \"https://www.bible.com/en-GB/bible/351/\" + abbreviations[key] + \".\" + ch + \".\" + ve + \".bysb\"\n",
    "        r = requests.get(url, auth=('user', 'pass'))\n",
    "        verseKinya = \"\"\n",
    "        \n",
    "        if 'class=\"content\">' in r.text:\n",
    "            verseKinya = r.text.rsplit('class=\"content\">', 1)[1].split('</span></span>')[0]\n",
    "        else:\n",
    "            count += 1\n",
    "            \n",
    "        newLst.append(verses[k+1].replace(\"\\n\",\" \"))\n",
    "        newLst.append(verseKinya)\n",
    "        newDict[verses[k]] = newLst\n",
    "        lst.append(newDict)\n",
    "        \n",
    "    versesDict[key] = lst\n",
    "    \n",
    "print(count, ct)"
   ]
  },
  {
   "cell_type": "code",
   "execution_count": 68,
   "metadata": {
    "collapsed": false
   },
   "outputs": [
    {
     "name": "stdout",
     "output_type": "stream",
     "text": [
      "66\n"
     ]
    }
   ],
   "source": [
    "kk = 0\n",
    "for i in versesDict:\n",
    "    kk += 1\n",
    "print (kk)"
   ]
  },
  {
   "cell_type": "code",
   "execution_count": 69,
   "metadata": {
    "collapsed": false
   },
   "outputs": [
    {
     "name": "stdout",
     "output_type": "stream",
     "text": [
      "{'1:1': [' The former treatise have I made, O Theophilus, of all that Jesus began both to do and teach, ', 'Muri cya gitabo cya mbere nanditse ibyo Yesu yabanje gukora no kwigisha byose, ']}\n"
     ]
    }
   ],
   "source": [
    "print (versesDict[\"Acts\"][0])"
   ]
  },
  {
   "cell_type": "code",
   "execution_count": 70,
   "metadata": {
    "collapsed": true
   },
   "outputs": [],
   "source": [
    "kinya2engl = \"\"\n",
    "for i in versesDict:\n",
    "    for k in versesDict[i]:\n",
    "        for key, value in k.items():            \n",
    "            kinya2engl += value[1]\n",
    "            kinya2engl += \" ||| \"\n",
    "            kinya2engl += value[0]\n",
    "            kinya2engl += \"\\n\\n\"\n",
    "\n",
    "\n",
    "\n",
    "t = open(\"kinyatest.txt\", 'w')\n",
    "t.write(kinya2engl)\n",
    "t.close()  "
   ]
  }
 ],
 "metadata": {
  "anaconda-cloud": {},
  "kernelspec": {
   "display_name": "Python 3",
   "language": "python",
   "name": "python3"
  },
  "language_info": {
   "codemirror_mode": {
    "name": "ipython",
    "version": 3
   },
   "file_extension": ".py",
   "mimetype": "text/x-python",
   "name": "python",
   "nbconvert_exporter": "python",
   "pygments_lexer": "ipython3",
   "version": "3.5.2"
  }
 },
 "nbformat": 4,
 "nbformat_minor": 0
}
