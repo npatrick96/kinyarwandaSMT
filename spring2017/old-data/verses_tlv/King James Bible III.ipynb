{
 "cells": [
  {
   "cell_type": "code",
   "execution_count": 1,
   "metadata": {
    "collapsed": true
   },
   "outputs": [],
   "source": [
    "import re\n",
    "import requests"
   ]
  },
  {
   "cell_type": "code",
   "execution_count": 2,
   "metadata": {
    "collapsed": false
   },
   "outputs": [
    {
     "name": "stdout",
     "output_type": "stream",
     "text": [
      "4353385\n",
      "<class 'str'>\n"
     ]
    }
   ],
   "source": [
    "current = \"\"\n",
    "fin = open(\"king.txt\") # file downloaded from http://www.gutenberg.org/1/10/\n",
    "for line in fin.readlines():\n",
    "        current += line\n",
    "print (len(current))\n",
    "#print (current[:1000])\n",
    "fin.close()\n",
    "print (type(current))\n",
    "#start here\n",
    "#\"*** START OF THIS PROJECT GUTENBERG EBOOK THE KING JAMES BIBLE ***\"\n",
    "\n",
    "#end here\n",
    "#\"End of the Project Gutenberg EBook of The King James Bible\""
   ]
  },
  {
   "cell_type": "markdown",
   "metadata": {},
   "source": [
    "Now that I have managed to extract the text file into one long sting, it is time to clean it up and organize it into books, chapters, and verses."
   ]
  },
  {
   "cell_type": "markdown",
   "metadata": {},
   "source": [
    "First of all, I start by getting rid off the text at the beginning and the end of file that I don't need. That includes all the guternberg introductory infoamation at the beginning of the file and and the copyright and disclaimers text at the end."
   ]
  },
  {
   "cell_type": "code",
   "execution_count": 3,
   "metadata": {
    "collapsed": false
   },
   "outputs": [
    {
     "name": "stdout",
     "output_type": "stream",
     "text": [
      "4352846\n"
     ]
    }
   ],
   "source": [
    "#remove the informational text at the beginning \n",
    "currentB = current.split(\"*** START OF THIS PROJECT GUTENBERG EBOOK THE KING JAMES BIBLE ***\", 1)[1]\n",
    "print (len(currentB))"
   ]
  },
  {
   "cell_type": "code",
   "execution_count": 4,
   "metadata": {
    "collapsed": false
   },
   "outputs": [
    {
     "name": "stdout",
     "output_type": "stream",
     "text": [
      "4334126\n"
     ]
    }
   ],
   "source": [
    "#remove the copyright and disclaimers text at the end\n",
    "currentE = currentB.rsplit(\"End of the Project Gutenberg EBook of The King James Bible\", 1)[0]\n",
    "print (len(currentE))"
   ]
  },
  {
   "cell_type": "markdown",
   "metadata": {},
   "source": [
    "To make sure that my techniques for stripping out the beginning and ending parts of the file have worked, I am going to print out the beginning and sentences of the current text, and make sure they look like what I want after comparing them to the original file."
   ]
  },
  {
   "cell_type": "code",
   "execution_count": 5,
   "metadata": {
    "collapsed": false
   },
   "outputs": [],
   "source": [
    "#print (currentE[80:200])"
   ]
  },
  {
   "cell_type": "code",
   "execution_count": 6,
   "metadata": {
    "collapsed": false
   },
   "outputs": [],
   "source": [
    "#print (currentE[len(currentE)-300:len(currentE)])"
   ]
  },
  {
   "cell_type": "markdown",
   "metadata": {},
   "source": [
    "That looks right, the next step now is to find a good splitting char or combination of chars, so that organizing the current text into books, chapters, and verses will be a straightforward process."
   ]
  },
  {
   "cell_type": "code",
   "execution_count": 7,
   "metadata": {
    "collapsed": false
   },
   "outputs": [
    {
     "name": "stdout",
     "output_type": "stream",
     "text": [
      "2\n"
     ]
    }
   ],
   "source": [
    "currentT = currentE.split(\"***\")\n",
    "print (len(currentT)) #this is correct, as we have two testaments in the text file divided by the *** characters."
   ]
  },
  {
   "cell_type": "markdown",
   "metadata": {},
   "source": [
    "Now starting with the old testament, I am about to start sorting the whole text by verse, chapter, and book. By the end of the process, I should have a total of 66 books 39 from the old testament and 27 books from the new testament."
   ]
  },
  {
   "cell_type": "code",
   "execution_count": 8,
   "metadata": {
    "collapsed": false
   },
   "outputs": [],
   "source": [
    "newTest = currentT[1]\n",
    "oldTest = currentT[0]\n",
    "#print newTest[:20]\n",
    "#print (oldTest[:100])"
   ]
  },
  {
   "cell_type": "code",
   "execution_count": 9,
   "metadata": {
    "collapsed": false
   },
   "outputs": [
    {
     "name": "stdout",
     "output_type": "stream",
     "text": [
      "39\n",
      "27\n"
     ]
    }
   ],
   "source": [
    "oldT = oldTest.split(\"\\nANOTHER BOOK STARTS HERE\")\n",
    "newT = newTest.split(\"\\nANOTHER BOOK STARTS HERE\")\n",
    "print (len(oldT))\n",
    "print (len(newT))\n",
    "# split on \"\\nANOTHER BOOK STARTS HERE\"\n",
    "# then build a tree-like structure from book, to chapter, then verse that can used to construct a url"
   ]
  },
  {
   "cell_type": "code",
   "execution_count": 10,
   "metadata": {
    "collapsed": false
   },
   "outputs": [],
   "source": [
    "oldTBooks = [\"Genesis\",\"Exodus\",\"Leviticus\",\"Numbers\",\"Deuteronomy\",\"Joshua\",\"Judges\",\"Ruth\",\"1 Samuel\",\"2 Samuel\",\n",
    "           \"1 Kings\",\"2 Kings\",\"1 Chronicles\",\"2 Chronicles\",\"Ezra\",\"Nehemiah\",\"Esther\",\"Job\",\"Psalms\",\"Proverbs\",\n",
    "           \"Ecclesiastes\",\"Song of Solomon\",\"Isaiah\",\"Jeremiah\",\"Lamentations\",\"Ezekiel\",\"Daniel\",\"Hosea\",\n",
    "           \"Joel\",\"Amos\",\"Obadiah\",\"Jonah\",\"Micah\",\"Nahum\",\"Habakkuk\",\"Zephaniah\",\"Haggai\",\"Zechariah\",\"Malachi\"]\n",
    "\n",
    "   "
   ]
  },
  {
   "cell_type": "code",
   "execution_count": 11,
   "metadata": {
    "collapsed": true
   },
   "outputs": [],
   "source": [
    "newTBooks = [\"Matthew\",\"Mark\",\"Luke\",\"John\",\"Acts\",\"Romans\",\"1 Corinthians\",\"2 Corinthians\",\"Galatians\",\"Ephesians\",\n",
    "             \"Philippians\",\"Colossians\",\"1 Thessalonians\",\"2 Thessalonians\",\"1 Timothy\",\"2 Timothy\",\"Titus\",\"Philemon\",\n",
    "             \"Hebrews\",\"James\",\"1 Peter\",\"2 Peter\",\"1 John\",\"2 John\",\"3 John\",\"Jude\",\"Revelation\"] \n"
   ]
  },
  {
   "cell_type": "code",
   "execution_count": 12,
   "metadata": {
    "collapsed": true
   },
   "outputs": [],
   "source": [
    "booksNames = [\"Genesis\",\"Exodus\",\"Leviticus\",\"Numbers\",\"Deuteronomy\",\"Joshua\",\"Judges\",\"Ruth\",\"1 Samuel\",\"2 Samuel\",\n",
    "           \"1 Kings\",\"2 Kings\",\"1 Chronicles\",\"2 Chronicles\",\"Ezra\",\"Nehemiah\",\"Esther\",\"Job\",\"Psalms\",\"Proverbs\",\n",
    "           \"Ecclesiastes\",\"Song of Solomon\",\"Isaiah\",\"Jeremiah\",\"Lamentations\",\"Ezekiel\",\"Daniel\",\"Hosea\",\n",
    "           \"Joel\",\"Amos\",\"Obadiah\",\"Jonah\",\"Micah\",\"Nahum\",\"Habakkuk\",\"Zephaniah\",\"Haggai\",\"Zechariah\",\"Malachi\", \n",
    "            \"Matthew\",\"Mark\",\"Luke\",\"John\",\"Acts\",\"Romans\",\"1 Corinthians\",\"2 Corinthians\",\"Galatians\",\"Ephesians\",\n",
    "             \"Philippians\",\"Colossians\",\"1 Thessalonians\",\"2 Thessalonians\",\"1 Timothy\",\"2 Timothy\",\"Titus\",\n",
    "            \"Philemon\",\"Hebrews\",\"James\",\"1 Peter\",\"2 Peter\",\"1 John\",\"2 John\",\"3 John\",\"Jude\",\"Revelation\"]\n",
    "booksAbbr = [\"gen\", \"exo\", \"lev\", \"num\", \"deu\", \"jos\", \"jdg\", \"rut\", \"1sa\", \"2sa\", \"1ki\", \"2ki\", \"1ch\", \"2ch\", \"ezr\", \n",
    "             \"neh\", \"est\", \"job\", \"psa\", \"pro\", \"ecc\", \"sng\", \"isa\", \"jer\", \"lam\", \"ezk\", \"dan\", \"hos\", \"jol\", \"amo\", \n",
    "             \"oba\", \"jon\", \"mic\", \"nam\", \"hab\", \"zep\", \"hag\", \"zec\", \"mal\", \"mat\", \"mrk\", \"luk\", \"jhn\", \"act\", \"rom\",\n",
    "             \"1co\", \"2co\", \"gal\", \"eph\", \"php\", \"col\", \"1th\", \"2th\", \"1ti\", \"2ti\", \"tit\", \"phm\", \"heb\", \"jas\", \"1pe\",\n",
    "             \"2pe\", \"1jn\", \"2jn\", \"3jn\", \"jud\", \"rev\"]"
   ]
  },
  {
   "cell_type": "code",
   "execution_count": 13,
   "metadata": {
    "collapsed": false
   },
   "outputs": [],
   "source": [
    "abbreviations = {}\n",
    "for idx in range(len(booksNames)):\n",
    "    abbreviations[booksNames[idx]] = booksAbbr[idx]"
   ]
  },
  {
   "cell_type": "code",
   "execution_count": 14,
   "metadata": {
    "collapsed": false
   },
   "outputs": [],
   "source": [
    "fullDict = {}\n",
    "for i in range(len(oldTBooks)):\n",
    "    fullDict[oldTBooks[i]] = oldT[i]\n",
    "for i in range(len(newTBooks)):\n",
    "    fullDict[newTBooks[i]] = newT[i]\n"
   ]
  },
  {
   "cell_type": "code",
   "execution_count": 19,
   "metadata": {
    "collapsed": false
   },
   "outputs": [],
   "source": [
    "\n",
    "\n",
    "versesDict = {}\n",
    "for key, value in fullDict.items():\n",
    "    verses = re.split(r'(\\d+:\\d+)', value)\n",
    "    lst = []\n",
    "    #print(len(verses))\n",
    "    for k in range(1, len(verses), 2):\n",
    "        \n",
    "        newDict = {}\n",
    "        newLst = []\n",
    "        chapterVerseLst = verses[k].split(\":\")\n",
    "        ch, ve = chapterVerseLst[0], chapterVerseLst[1]\n",
    "        lst.append((ch, ve))\n",
    "#         url = \"https://www.bible.com/en-GB/bible/351/\" + abbreviations[key] + \".\" + ch + \".\" + ve + \".bysb\"\n",
    "#         r = requests.get(url, auth=('user', 'pass'))\n",
    "#         verseKinya = \"Not Working\"\n",
    "#         if 'class=\"content\">' in r.text:\n",
    "#             verseKinya = r.text.rsplit('class=\"content\">', 1)[1].split('</span></span>')[0]\n",
    "#         else:\n",
    "#             #print(verseKinya)\n",
    "#             filename = key + \" \" + verses[k] + \".txt\"\n",
    "#             f = open(filename, 'w')\n",
    "#             f.write(r.text)\n",
    "#             f.close()\n",
    "#         newLst.append(verses[k+1])\n",
    "#         newLst.append(verseKinya)\n",
    "#         newDict[verses[k]] = newLst\n",
    "#         lst.append(newDict)\n",
    "    versesDict[key] = lst"
   ]
  },
  {
   "cell_type": "code",
   "execution_count": 25,
   "metadata": {
    "collapsed": false
   },
   "outputs": [],
   "source": [
    "versesDict = {}\n",
    "for key, value in fullDict.items():\n",
    "    verses = re.split(r'(\\d+:\\d+)', value)\n",
    "    ff = open(key+\".txt\", 'w')\n",
    "    sss = \"\"\n",
    "    #print(len(verses))\n",
    "    for k in range(1, len(verses), 2):\n",
    "        \n",
    "        newDict = {}\n",
    "        newLst = []\n",
    "        chapterVerseLst = verses[k].split(\":\")\n",
    "        sss += verses[k] + \"\\n\"\n",
    "        ch, ve = chapterVerseLst[0], chapterVerseLst[1]\n",
    "        lst.append((ch, ve))\n",
    "#         url = \"https://www.bible.com/en-GB/bible/351/\" + abbreviations[key] + \".\" + ch + \".\" + ve + \".bysb\"\n",
    "#         r = requests.get(url, auth=('user', 'pass'))\n",
    "#         verseKinya = \"Not Working\"\n",
    "#         if 'class=\"content\">' in r.text:\n",
    "#             verseKinya = r.text.rsplit('class=\"content\">', 1)[1].split('</span></span>')[0]\n",
    "#         else:\n",
    "#             #print(verseKinya)\n",
    "#             filename = key + \" \" + verses[k] + \".txt\"\n",
    "#             f = open(filename, 'w')\n",
    "#             f.write(r.text)\n",
    "#             f.close()\n",
    "#         newLst.append(verses[k+1])\n",
    "#         newLst.append(verseKinya)\n",
    "#         newDict[verses[k]] = newLst\n",
    "#         lst.append(newDict)\n",
    "    ff.write(sss)\n",
    "    ff.close()"
   ]
  },
  {
   "cell_type": "code",
   "execution_count": 195,
   "metadata": {
    "collapsed": true
   },
   "outputs": [],
   "source": [
    "#with open(\"translationData.txt\", 'w') as f:\n",
    "    #for key, value in versesDict.items():\n",
    "        #f.write('%s:%s\\n' % (key, value))\n",
    "        \n",
    "#to read it back the dictionnary constructed above\n",
    "data = dict()\n",
    "with open(\"translationData.txt\") as raw_data:\n",
    "    for item if raw_data:\n",
    "        if ':' in item:\n",
    "            key,value = item.split(':', 1)\n",
    "            data[key]=value\n",
    "        else:\n",
    "            pass"
   ]
  },
  {
   "cell_type": "code",
   "execution_count": 187,
   "metadata": {
    "collapsed": false
   },
   "outputs": [
    {
     "name": "stdout",
     "output_type": "stream",
     "text": [
      "66\n"
     ]
    }
   ],
   "source": [
    "\n",
    "kk = 0\n",
    "for i in versesDict:\n",
    "    kk += 1\n",
    "print (kk)\n",
    "# print (fullDict[\"Matthew\"])\n",
    "#print (fullDict[\"Matthew\"][0][\"1:1\"])"
   ]
  },
  {
   "cell_type": "code",
   "execution_count": 190,
   "metadata": {
    "collapsed": false
   },
   "outputs": [
    {
     "name": "stdout",
     "output_type": "stream",
     "text": [
      "{'1:1': [' The former treatise have I made, O Theophilus, of all that Jesus\\nbegan both to do and teach, ', 'Muri cya gitabo cya mbere nanditse ibyo Yesu yabanje gukora no kwigisha byose, ']}\n"
     ]
    }
   ],
   "source": [
    "print (versesDict[\"Acts\"][0])"
   ]
  },
  {
   "cell_type": "markdown",
   "metadata": {},
   "source": [
    "Now that I have got the English King James bible all sorted out and organized by verse, chapter and book; I am going to use the requests http library to access the kinyarwanda translation from bible.com"
   ]
  },
  {
   "cell_type": "code",
   "execution_count": 194,
   "metadata": {
    "collapsed": false
   },
   "outputs": [],
   "source": [
    "# #engl2kinya = \"\"\n",
    "# kinya2engl = \"\"\n",
    "# for i in versesDict:\n",
    "#     for k in versesDict[i]:\n",
    "#         for key, value in k.items():\n",
    "#             #engl2kinya += value[0]\n",
    "#             #engl2kinya += \" . |||\"\n",
    "#             #engl2kinya += value[1]\n",
    "#             #engl2kinya += \"\\n\"\n",
    "            \n",
    "#             kinya2engl += value[1]\n",
    "#             kinya2engl += \"|||\"\n",
    "#             kinya2engl += value[0]\n",
    "#             #kinya2engl += \"\\n\"\n",
    "\n",
    "# #f = open(\"engl2kinya.txt\", 'w')\n",
    "# #f.write(engl2kinya)\n",
    "# #f.close() \n",
    "\n",
    "# t = open(\"kinya2engl.txt\", 'w')\n",
    "# t.write(kinya2engl)\n",
    "# t.close()  "
   ]
  },
  {
   "cell_type": "code",
   "execution_count": null,
   "metadata": {
    "collapsed": true
   },
   "outputs": [],
   "source": [
    "    "
   ]
  },
  {
   "cell_type": "code",
   "execution_count": null,
   "metadata": {
    "collapsed": false
   },
   "outputs": [],
   "source": [
    "# r = requests.get('https://www.bible.com/en-GB/bible/351/est.8.9.bysb', auth=('user', 'pass'))\n",
    "# print(r.status_code)                #longest verse in the bible, why not!\n",
    "# print(r.headers['content-type'])\n",
    "# print (r.encoding)\n",
    "# print(r.json())                     #doesn't work content type is text/html"
   ]
  },
  {
   "cell_type": "markdown",
   "metadata": {},
   "source": [
    "The following code block is my attempt trying to find the best way to splot the html page that I got back from the bible.com website. "
   ]
  },
  {
   "cell_type": "code",
   "execution_count": null,
   "metadata": {
    "collapsed": false
   },
   "outputs": [],
   "source": [
    "# print (r.text[:100])\n",
    "# print(len(r.text))\n",
    "# verseKinya = r.text.rsplit('class=\"content\">', 1)[1].split('</span></span>')[0]\n",
    "# print(len(ghgh))\n",
    "# print(ghgh)\n",
    "#ghgh[1][:700]\n",
    "#ghgh[0][len(ghgh)-30:]\n",
    "#verseKiny = r.text.rsplit(\"</span></span><div id='read_chapter'>\")[0].lsplit('<span class=\"content\">')[1]\n",
    "#print(verseKiny)"
   ]
  },
  {
   "cell_type": "markdown",
   "metadata": {},
   "source": [
    "I use the below code to generate an example file so that I could examine what kind of data I was getting back after calling r.text on my requests object."
   ]
  },
  {
   "cell_type": "code",
   "execution_count": null,
   "metadata": {
    "collapsed": false
   },
   "outputs": [],
   "source": [
    "# f = open('longestVerse.txt', 'w')\n",
    "# f.write(r.text)\n",
    "# f.close()"
   ]
  }
 ],
 "metadata": {
  "anaconda-cloud": {},
  "kernelspec": {
   "display_name": "Python 3",
   "language": "python",
   "name": "python3"
  },
  "language_info": {
   "codemirror_mode": {
    "name": "ipython",
    "version": 3
   },
   "file_extension": ".py",
   "mimetype": "text/x-python",
   "name": "python",
   "nbconvert_exporter": "python",
   "pygments_lexer": "ipython3",
   "version": "3.5.2"
  }
 },
 "nbformat": 4,
 "nbformat_minor": 0
}
