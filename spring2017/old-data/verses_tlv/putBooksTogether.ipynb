{
 "cells": [
  {
   "cell_type": "code",
   "execution_count": 11,
   "metadata": {
    "collapsed": false
   },
   "outputs": [],
   "source": [
    "# f  = open(\"10.txt\")\n",
    "# data = f.read()\n",
    "# data_s = data.split(\"ANOTHER BOOK STARTS HERE\")\n",
    "# f.close()"
   ]
  },
  {
   "cell_type": "code",
   "execution_count": 12,
   "metadata": {
    "collapsed": false
   },
   "outputs": [],
   "source": [
    "# len(data_s)"
   ]
  },
  {
   "cell_type": "code",
   "execution_count": 13,
   "metadata": {
    "collapsed": false
   },
   "outputs": [],
   "source": [
    "# for i in range(len(data_s)):\n",
    "#     ff = open(booksNames[i] + \".txt\", \"w\")\n",
    "#     ff.write(data_s[i])\n",
    "#     ff.close()\n",
    "    "
   ]
  },
  {
   "cell_type": "code",
   "execution_count": 14,
   "metadata": {
    "collapsed": false
   },
   "outputs": [],
   "source": [
    "# import re\n",
    "# k = open(\"Titus.txt\")\n",
    "# s = k.read()\n",
    "# print(len(s))\n",
    "# k.close()\n",
    "# s  = re.sub(r'\\s+(?=\\d)', '\\n', s)\n",
    "# print(len(s))\n",
    "# k = open(\"Titus.txt\", \"w\")\n",
    "# k.write(s)\n",
    "# k.close()"
   ]
  },
  {
   "cell_type": "code",
   "execution_count": 15,
   "metadata": {
    "collapsed": false
   },
   "outputs": [],
   "source": [
    "# import re\n",
    "# k = open(\"Titus.txt\")\n",
    "# s = k.read()\n",
    "# print(len(s))\n",
    "# k.close()\n",
    "# ss  = re.sub(r'\\n(?=\\d)', '#####', s)\n",
    "# print(len(ss))\n",
    "# k = open(\"Titus.txt\", \"w\")\n",
    "# k.write(ss)\n",
    "# k.close()"
   ]
  },
  {
   "cell_type": "code",
   "execution_count": 16,
   "metadata": {
    "collapsed": false
   },
   "outputs": [],
   "source": [
    "# import re\n",
    "# k = open(\"11.txt\")\n",
    "# ss = k.read()\n",
    "# s = ss.split(\"The New Testament of the King James Bible\")\n",
    "# print(len(s))\n",
    "# k.close()\n",
    "# k1 = open(\"old.txt\", \"w\")\n",
    "# k1.write(s[0])\n",
    "# k1.close()\n",
    "# k2 = open(\"new.txt\", \"w\")\n",
    "# k2.write(s[1])\n",
    "# k2.close()"
   ]
  },
  {
   "cell_type": "code",
   "execution_count": 17,
   "metadata": {
    "collapsed": false
   },
   "outputs": [],
   "source": [
    "# import re\n",
    "# k = open(\"11.txt\")\n",
    "# s = k.read()\n",
    "# k.close()\n",
    "# s  = re.sub(r'\\s+(?=\\d)', '###', s)\n",
    "# s  = re.sub(r'\\n', ' ', s)\n",
    "# s  = re.sub(r'###', '\\n', s)\n",
    "# print(len(s))\n",
    "# k = open(\"10.txt\", \"w\")\n",
    "# k.write(s)\n",
    "# k.close()"
   ]
  },
  {
   "cell_type": "code",
   "execution_count": 18,
   "metadata": {
    "collapsed": true
   },
   "outputs": [],
   "source": [
    "# booksNames = [\"Genesis\",\"Exodus\",\"Leviticus\",\"Numbers\",\"Deuteronomy\",\"Joshua\",\"Judges\",\"Ruth\",\"1 Samuel\",\"2 Samuel\",\n",
    "#            \"1 Kings\",\"2 Kings\",\"1 Chronicles\",\"2 Chronicles\",\"Ezra\",\"Nehemiah\",\"Esther\",\"Job\",\"Psalms\",\"Proverbs\",\n",
    "#            \"Ecclesiastes\",\"Song of Solomon\",\"Isaiah\",\"Jeremiah\",\"Lamentations\",\"Ezekiel\",\"Daniel\",\"Hosea\",\n",
    "#            \"Joel\",\"Amos\",\"Obadiah\",\"Jonah\",\"Micah\",\"Nahum\",\"Habakkuk\",\"Zephaniah\",\"Haggai\",\"Zechariah\",\"Malachi\", \n",
    "#             \"Matthew\",\"Mark\",\"Luke\",\"John\",\"Acts\",\"Romans\",\"1 Corinthians\",\"2 Corinthians\",\"Galatians\",\"Ephesians\",\n",
    "#              \"Philippians\",\"Colossians\",\"1 Thessalonians\",\"2 Thessalonians\",\"1 Timothy\",\"2 Timothy\",\"Titus\",\n",
    "#             \"Philemon\",\"Hebrews\",\"James\",\"1 Peter\",\"2 Peter\",\"1 John\",\"2 John\",\"3 John\",\"Jude\",\"Revelation\"]"
   ]
  },
  {
   "cell_type": "code",
   "execution_count": 19,
   "metadata": {
    "collapsed": true
   },
   "outputs": [],
   "source": [
    "# ss = \"\"\n",
    "# for i in range(len(booksNames)):\n",
    "#     ff = open(booksNames[i] + \".txt\")\n",
    "#     data  = ff.read() + \"\\n\"\n",
    "#     ss += data\n",
    "#     ff.close()\n",
    "# f = open(\"kjv.txt\", \"w\")\n",
    "# f.write(ss)\n",
    "# f.close()"
   ]
  },
  {
   "cell_type": "code",
   "execution_count": 20,
   "metadata": {
    "collapsed": true
   },
   "outputs": [],
   "source": [
    "# oldTBooks = [\"Genesis\",\"Exodus\",\"Leviticus\",\"Numbers\",\"Deuteronomy\",\"Joshua\",\"Judges\",\"Ruth\",\"1 Samuel\",\"2 Samuel\",\n",
    "#            \"1 Kings\",\"2 Kings\",\"1 Chronicles\",\"2 Chronicles\",\"Ezra\",\"Nehemiah\",\"Esther\",\"Job\",\"Psalms\",\"Proverbs\",\n",
    "#            \"Ecclesiastes\",\"Song of Solomon\",\"Isaiah\",\"Jeremiah\",\"Lamentations\",\"Ezekiel\",\"Daniel\",\"Hosea\",\n",
    "#            \"Joel\",\"Amos\",\"Obadiah\",\"Jonah\",\"Micah\",\"Nahum\",\"Habakkuk\",\"Zephaniah\",\"Haggai\",\"Zechariah\",\"Malachi\"]"
   ]
  },
  {
   "cell_type": "code",
   "execution_count": 21,
   "metadata": {
    "collapsed": true
   },
   "outputs": [],
   "source": [
    "# newTBooks = [\"Matthew\",\"Mark\",\"Luke\",\"John\",\"Acts\",\"Romans\",\"1 Corinthians\",\"2 Corinthians\",\"Galatians\",\"Ephesians\",\n",
    "#              \"Philippians\",\"Colossians\",\"1 Thessalonians\",\"2 Thessalonians\",\"1 Timothy\",\"2 Timothy\",\"Titus\",\"Philemon\",\n",
    "#              \"Hebrews\",\"James\",\"1 Peter\",\"2 Peter\",\"1 John\",\"2 John\",\"3 John\",\"Jude\",\"Revelation\"] "
   ]
  },
  {
   "cell_type": "code",
   "execution_count": 22,
   "metadata": {
    "collapsed": true
   },
   "outputs": [],
   "source": [
    "# ss = \"\"\n",
    "# for i in range(len(oldTBooks)):\n",
    "#     ff = open(oldTBooks[i] + \".txt\")\n",
    "#     data  = ff.read() + \"\\n\"\n",
    "#     ss += data\n",
    "#     ff.close()\n",
    "# f = open(\"old.txt\", \"w\")\n",
    "# f.write(ss)\n",
    "# f.close()"
   ]
  },
  {
   "cell_type": "code",
   "execution_count": 23,
   "metadata": {
    "collapsed": true
   },
   "outputs": [],
   "source": [
    "# ss = \"\"\n",
    "# for i in range(len(newTBooks)):\n",
    "#     ff = open(newTBooks[i] + \".txt\")\n",
    "#     data  = ff.read() + \"\\n\"\n",
    "#     ss += data\n",
    "#     ff.close()\n",
    "# f = open(\"new.txt\", \"w\")\n",
    "# f.write(ss)\n",
    "# f.close()"
   ]
  }
 ],
 "metadata": {
  "kernelspec": {
   "display_name": "Python 3",
   "language": "python",
   "name": "python3"
  },
  "language_info": {
   "codemirror_mode": {
    "name": "ipython",
    "version": 3
   },
   "file_extension": ".py",
   "mimetype": "text/x-python",
   "name": "python",
   "nbconvert_exporter": "python",
   "pygments_lexer": "ipython3",
   "version": "3.5.2"
  }
 },
 "nbformat": 4,
 "nbformat_minor": 1
}
